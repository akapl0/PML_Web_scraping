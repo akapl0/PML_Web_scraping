{
  "cells": [
    {
      "cell_type": "markdown",
      "metadata": {
        "id": "XY3V3eL2yOdT"
      },
      "source": [
        "# Short introduction to Python for R users"
      ]
    },
    {
      "cell_type": "markdown",
      "metadata": {},
      "source": [
        "MIT Political Methodology Lab Workshop Series  \n",
        "Spring 2022  \n",
        "Adam Kaplan"
      ]
    },
    {
      "cell_type": "markdown",
      "metadata": {
        "id": "84Ihlxd4yOdh"
      },
      "source": [
        "## Jupyter Notebooks\n",
        "\n",
        "Jupyter notebooks are a way of writing code, running code, and displaying output in one convenient place. You can write code in code blocks, or write markdown/text in blocks like this. It's often useful to explain what you're doing and finding so when you or someone else picks up the notebook in the future they'll know what's going on.\n",
        "\n",
        "You can execute code chunks by clicking the cell to run and hitting \"Run\" button on the top bar, or by typing \"shift-enter\". You can always return to a previous code chunk, modify it, and re-run it.\n",
        "\n",
        "You can write math in notebooks, just like in Rmarkdown: $\\bar{x} = \\frac{1}{n}\\sum_{i=1}^n x_i$\n",
        "\n",
        "Jupyter is great for prototyping, but for more heavy duty use, replication, running on a server, etc., I recommend re-writing the code into a `.py` file that can be called from the command line with `python3 mycode.py`. This process also gives you a chance to refactor your code, making it more efficient, readable, and dependable. You can convert a notebook to (messy) Python code by going `File > Download as > Python (.py)`."
      ]
    },
    {
      "cell_type": "markdown",
      "metadata": {
        "id": "6GgEHeXhyOdn"
      },
      "source": [
        "## Python vs. R\n",
        "\n",
        "Python and R are fairly similar. This is a quick overview of the differences to help you get up to speed.\n",
        "\n",
        "### Installing and importing packages\n",
        "\n",
        "- In Python, packages are installed from the command line, NOT from inside Python itself. We can run command line commands from within a Jupyter Notebook. To do so prepend `!` to the command. To install the `mypackage` package you can run `!pip3 install mypackage` or from the terminal,\n",
        "  run `pip3 install mypackage`. \n",
        "- Importing packages is similar: instead of `[R] library(mypackage)`, do `[Python] import mypackage`.\n",
        "- Python also lets you import specific functions from a package: `from mypackage import cool_function`\n",
        "- You can also rename packages if they're too long: `import numpy as np`"
      ]
    },
    {
      "cell_type": "code",
      "execution_count": 3,
      "metadata": {
        "colab": {
          "base_uri": "https://localhost:8080/"
        },
        "id": "b7kWkFJKyOdo",
        "outputId": "a060dd79-8ad0-48a5-fe8d-65ee929b681b"
      },
      "outputs": [
        {
          "name": "stdout",
          "output_type": "stream",
          "text": [
            "Collecting tqdm\n",
            "  Using cached https://files.pythonhosted.org/packages/63/f3/b7a1b8e40fd1bd049a34566eb353527bb9b8e9b98f8b6cf803bb64d8ce95/tqdm-4.62.3-py2.py3-none-any.whl\n",
            "Installing collected packages: tqdm\n",
            "Successfully installed tqdm-4.62.3\n"
          ]
        }
      ],
      "source": [
        "# practice by installing tqdm and import the tqdm function from it\n",
        "!pip3 install tqdm\n",
        "from tqdm import tqdm"
      ]
    },
    {
      "cell_type": "markdown",
      "metadata": {
        "id": "v3w_bykgyOdq"
      },
      "source": [
        "### What are all those dots for? (Or, methods, attributes, and namespaces)\n",
        "\n",
        "- Dots have special meaning in Python. It's not like R, where people put dots in all sorts of names.\n",
        "- Python is much more careful about keeping packages' functions attached to the functions. If the `requests` library has a function called `get`, you call it like this `requests.get()`. This reminds you where the `get` function came from and prevents you from overwriting some other package's `get` function.\n",
        "- Python is also more \"object oriented\" than R. Objects often have built in or attached functions, called methods. \n",
        "- These methods are called with a dot notation. Compare: \n",
        "```\n",
        "[R] strsplit(\"Adam Kaplan\", \" \")\n",
        "```\n",
        "and\n",
        "\n",
        "```\n",
        "    [Python] \"Adam Kaplan\".split(\" \")\n",
        "```\n",
        "\n",
        "- Objects can also have attributes, which are pieces of data attached to an object. Example: `adam.subfields = ['methods', 'international relations']`\n"
      ]
    },
    {
      "cell_type": "code",
      "execution_count": 4,
      "metadata": {
        "colab": {
          "base_uri": "https://localhost:8080/",
          "height": 35
        },
        "id": "qM8wD6PiyOdq",
        "outputId": "dd886d94-278c-445d-d538-c9cc19c7870e"
      },
      "outputs": [
        {
          "data": {
            "text/plain": [
              "'ADAM KAPLAN'"
            ]
          },
          "execution_count": 4,
          "metadata": {},
          "output_type": "execute_result"
        }
      ],
      "source": [
        "## Practice! Can you figure out how to make a string all upper case?\n",
        "my_name = \"Adam Kaplan\"\n",
        "my_name.upper()"
      ]
    },
    {
      "cell_type": "markdown",
      "metadata": {
        "id": "vPT3_949yOdr"
      },
      "source": [
        "### Data Structures\n",
        "\n",
        "- Like R's vectors, Python uses a lot of lists. These are ordered arrays. Note that Python starts with 0! \n",
        "\n",
        "```\n",
        "my_list = [\"x\", \"y\", \"z\"]\n",
        "> my_list[0] \n",
        "x\n",
        "```\n",
        "\n",
        "- Python has a data structure called a dictionary, which are like lists that you access by key name instead of by position (think a more general form of R's dataframes). Example:\n",
        "\n",
        "```\n",
        "article = {\"title\": \"Rivalry and Revenge\",\n",
        "           \"author\" : \"Balcells\",\n",
        "           \"year\" : \"2017\"}\n",
        "\n",
        "> article.keys()\n",
        "['title', 'author', 'year']\n",
        "\n",
        "> article['author']\n",
        "\"Balcells\"\n",
        "```\n",
        "\n",
        "### Loops and functions\n",
        "\n",
        "\n",
        "- Functions are only slightly different from R:\n",
        "\n",
        "```\n",
        "def my_function(x):\n",
        "    z = (x + 2)^2\n",
        "    return z\n",
        "```\n",
        "\n",
        "- Loops are fast and nice in Python, unlike in R, and are very easily done:\n",
        "\n",
        "```\n",
        "for i in my_list:\n",
        "    my_function(i)\n",
        "```\n",
        "\n",
        "- Pro move: list comprehensions:\n",
        "\n",
        "```\n",
        "[my_function(i) for i in my_list]\n",
        "```"
      ]
    },
    {
      "cell_type": "code",
      "execution_count": 5,
      "metadata": {
        "colab": {
          "base_uri": "https://localhost:8080/"
        },
        "id": "Od0oampcyOdr",
        "outputId": "132444a6-3da5-4a86-e4b2-9f2566f074b1"
      },
      "outputs": [
        {
          "name": "stdout",
          "output_type": "stream",
          "text": [
            "['methods', 'international relations']\n",
            "['METHODS', 'INTERNATIONAL RELATIONS']\n"
          ]
        }
      ],
      "source": [
        "## Practice! Can you make a list of words, write a loop that goes over the list, and \n",
        "## prints a capitalized version of each one?\n",
        "adam_subfields = [\"methods\", \"international relations\"]\n",
        "\n",
        "def capitalize_list(list_of_words):\n",
        "  return [word.upper() for word in list_of_words]\n",
        "\n",
        "print(adam_subfields)\n",
        "capitalized_adam_subfields = capitalize_list(adam_subfields)\n",
        "print(capitalized_adam_subfields)"
      ]
    },
    {
      "cell_type": "markdown",
      "metadata": {
        "id": "OOXwfw8IyOds"
      },
      "source": [
        "### Whitespace\n",
        "\n",
        "- As you can tell, Python makes heavy use of whitespace to set apart different levels of functions, for loops, etc. Use four spaces (Jupyter converts tabs to four spaces automatically. \n",
        "- No need for curly braces!\n",
        "\n",
        "```\n",
        "def my_function(big_list):\n",
        "    print(len(big_list))\n",
        "    for l in big_list:\n",
        "        for i in l:\n",
        "            ...\n",
        "    return stuff\n",
        "```"
      ]
    },
    {
      "cell_type": "markdown",
      "metadata": {
        "id": "a35pp2kp1bnr"
      },
      "source": [
        "## Extra fun: Progress bars"
      ]
    },
    {
      "cell_type": "code",
      "execution_count": 7,
      "metadata": {
        "colab": {
          "base_uri": "https://localhost:8080/",
          "height": 120,
          "referenced_widgets": [
            "ce3343293b9641babff3259217bc1570",
            "3922d12a305d4f4099e495599e4cb682",
            "88b66dfa01374f59b0b532a3b95db39c",
            "07f25b8c8d024142a61618734874955c",
            "d9944b191b3245c088245d7906e08e03",
            "accc1c906b274e268b38ace67efb4d06",
            "679c6fe08a7c468a8b2b6ee3ad88f186",
            "5387a465d0b149bfa38b40bcce5a12c7"
          ]
        },
        "id": "NANxC2pAyOds",
        "outputId": "84aca97d-2dad-4e5e-f59f-a1e3cf18b32f"
      },
      "outputs": [
        {
          "data": {
            "application/vnd.jupyter.widget-view+json": {
              "model_id": "477295114db346009b0f0a219d894b90",
              "version_major": 2,
              "version_minor": 0
            },
            "text/plain": [
              "  0%|          | 0/500 [00:00<?, ?it/s]"
            ]
          },
          "metadata": {},
          "output_type": "display_data"
        }
      ],
      "source": [
        "# tqdm is one of my favorite libraries in Python.\n",
        "# It makes very nice progress bars without any real effort:\n",
        "from tqdm.autonotebook import tqdm\n",
        "from time import sleep\n",
        "\n",
        "_ = [sleep(0.01) for i in tqdm(range(0, 500))]"
      ]
    }
  ],
  "metadata": {
    "colab": {
      "collapsed_sections": [],
      "name": "Intro_to_Python_for_R_Users_Completed.ipynb",
      "provenance": []
    },
    "kernelspec": {
      "display_name": "Python 3",
      "language": "python",
      "name": "python3"
    },
    "language_info": {
      "codemirror_mode": {
        "name": "ipython",
        "version": 3
      },
      "file_extension": ".py",
      "mimetype": "text/x-python",
      "name": "python",
      "nbconvert_exporter": "python",
      "pygments_lexer": "ipython3",
      "version": "3.6.9"
    },
    "widgets": {
      "application/vnd.jupyter.widget-state+json": {
        "07f25b8c8d024142a61618734874955c": {
          "model_module": "@jupyter-widgets/controls",
          "model_name": "HTMLModel",
          "state": {
            "_dom_classes": [],
            "_model_module": "@jupyter-widgets/controls",
            "_model_module_version": "1.5.0",
            "_model_name": "HTMLModel",
            "_view_count": null,
            "_view_module": "@jupyter-widgets/controls",
            "_view_module_version": "1.5.0",
            "_view_name": "HTMLView",
            "description": "",
            "description_tooltip": null,
            "layout": "IPY_MODEL_5387a465d0b149bfa38b40bcce5a12c7",
            "placeholder": "​",
            "style": "IPY_MODEL_679c6fe08a7c468a8b2b6ee3ad88f186",
            "value": " 500/500 [05:30&lt;00:00,  1.51it/s]"
          }
        },
        "3922d12a305d4f4099e495599e4cb682": {
          "model_module": "@jupyter-widgets/base",
          "model_name": "LayoutModel",
          "state": {
            "_model_module": "@jupyter-widgets/base",
            "_model_module_version": "1.2.0",
            "_model_name": "LayoutModel",
            "_view_count": null,
            "_view_module": "@jupyter-widgets/base",
            "_view_module_version": "1.2.0",
            "_view_name": "LayoutView",
            "align_content": null,
            "align_items": null,
            "align_self": null,
            "border": null,
            "bottom": null,
            "display": null,
            "flex": null,
            "flex_flow": null,
            "grid_area": null,
            "grid_auto_columns": null,
            "grid_auto_flow": null,
            "grid_auto_rows": null,
            "grid_column": null,
            "grid_gap": null,
            "grid_row": null,
            "grid_template_areas": null,
            "grid_template_columns": null,
            "grid_template_rows": null,
            "height": null,
            "justify_content": null,
            "justify_items": null,
            "left": null,
            "margin": null,
            "max_height": null,
            "max_width": null,
            "min_height": null,
            "min_width": null,
            "object_fit": null,
            "object_position": null,
            "order": null,
            "overflow": null,
            "overflow_x": null,
            "overflow_y": null,
            "padding": null,
            "right": null,
            "top": null,
            "visibility": null,
            "width": null
          }
        },
        "5387a465d0b149bfa38b40bcce5a12c7": {
          "model_module": "@jupyter-widgets/base",
          "model_name": "LayoutModel",
          "state": {
            "_model_module": "@jupyter-widgets/base",
            "_model_module_version": "1.2.0",
            "_model_name": "LayoutModel",
            "_view_count": null,
            "_view_module": "@jupyter-widgets/base",
            "_view_module_version": "1.2.0",
            "_view_name": "LayoutView",
            "align_content": null,
            "align_items": null,
            "align_self": null,
            "border": null,
            "bottom": null,
            "display": null,
            "flex": null,
            "flex_flow": null,
            "grid_area": null,
            "grid_auto_columns": null,
            "grid_auto_flow": null,
            "grid_auto_rows": null,
            "grid_column": null,
            "grid_gap": null,
            "grid_row": null,
            "grid_template_areas": null,
            "grid_template_columns": null,
            "grid_template_rows": null,
            "height": null,
            "justify_content": null,
            "justify_items": null,
            "left": null,
            "margin": null,
            "max_height": null,
            "max_width": null,
            "min_height": null,
            "min_width": null,
            "object_fit": null,
            "object_position": null,
            "order": null,
            "overflow": null,
            "overflow_x": null,
            "overflow_y": null,
            "padding": null,
            "right": null,
            "top": null,
            "visibility": null,
            "width": null
          }
        },
        "679c6fe08a7c468a8b2b6ee3ad88f186": {
          "model_module": "@jupyter-widgets/controls",
          "model_name": "DescriptionStyleModel",
          "state": {
            "_model_module": "@jupyter-widgets/controls",
            "_model_module_version": "1.5.0",
            "_model_name": "DescriptionStyleModel",
            "_view_count": null,
            "_view_module": "@jupyter-widgets/base",
            "_view_module_version": "1.2.0",
            "_view_name": "StyleView",
            "description_width": ""
          }
        },
        "88b66dfa01374f59b0b532a3b95db39c": {
          "model_module": "@jupyter-widgets/controls",
          "model_name": "FloatProgressModel",
          "state": {
            "_dom_classes": [],
            "_model_module": "@jupyter-widgets/controls",
            "_model_module_version": "1.5.0",
            "_model_name": "FloatProgressModel",
            "_view_count": null,
            "_view_module": "@jupyter-widgets/controls",
            "_view_module_version": "1.5.0",
            "_view_name": "ProgressView",
            "bar_style": "success",
            "description": "100%",
            "description_tooltip": null,
            "layout": "IPY_MODEL_accc1c906b274e268b38ace67efb4d06",
            "max": 500,
            "min": 0,
            "orientation": "horizontal",
            "style": "IPY_MODEL_d9944b191b3245c088245d7906e08e03",
            "value": 500
          }
        },
        "accc1c906b274e268b38ace67efb4d06": {
          "model_module": "@jupyter-widgets/base",
          "model_name": "LayoutModel",
          "state": {
            "_model_module": "@jupyter-widgets/base",
            "_model_module_version": "1.2.0",
            "_model_name": "LayoutModel",
            "_view_count": null,
            "_view_module": "@jupyter-widgets/base",
            "_view_module_version": "1.2.0",
            "_view_name": "LayoutView",
            "align_content": null,
            "align_items": null,
            "align_self": null,
            "border": null,
            "bottom": null,
            "display": null,
            "flex": null,
            "flex_flow": null,
            "grid_area": null,
            "grid_auto_columns": null,
            "grid_auto_flow": null,
            "grid_auto_rows": null,
            "grid_column": null,
            "grid_gap": null,
            "grid_row": null,
            "grid_template_areas": null,
            "grid_template_columns": null,
            "grid_template_rows": null,
            "height": null,
            "justify_content": null,
            "justify_items": null,
            "left": null,
            "margin": null,
            "max_height": null,
            "max_width": null,
            "min_height": null,
            "min_width": null,
            "object_fit": null,
            "object_position": null,
            "order": null,
            "overflow": null,
            "overflow_x": null,
            "overflow_y": null,
            "padding": null,
            "right": null,
            "top": null,
            "visibility": null,
            "width": null
          }
        },
        "ce3343293b9641babff3259217bc1570": {
          "model_module": "@jupyter-widgets/controls",
          "model_name": "HBoxModel",
          "state": {
            "_dom_classes": [],
            "_model_module": "@jupyter-widgets/controls",
            "_model_module_version": "1.5.0",
            "_model_name": "HBoxModel",
            "_view_count": null,
            "_view_module": "@jupyter-widgets/controls",
            "_view_module_version": "1.5.0",
            "_view_name": "HBoxView",
            "box_style": "",
            "children": [
              "IPY_MODEL_88b66dfa01374f59b0b532a3b95db39c",
              "IPY_MODEL_07f25b8c8d024142a61618734874955c"
            ],
            "layout": "IPY_MODEL_3922d12a305d4f4099e495599e4cb682"
          }
        },
        "d9944b191b3245c088245d7906e08e03": {
          "model_module": "@jupyter-widgets/controls",
          "model_name": "ProgressStyleModel",
          "state": {
            "_model_module": "@jupyter-widgets/controls",
            "_model_module_version": "1.5.0",
            "_model_name": "ProgressStyleModel",
            "_view_count": null,
            "_view_module": "@jupyter-widgets/base",
            "_view_module_version": "1.2.0",
            "_view_name": "StyleView",
            "bar_color": null,
            "description_width": "initial"
          }
        }
      }
    }
  },
  "nbformat": 4,
  "nbformat_minor": 0
}
